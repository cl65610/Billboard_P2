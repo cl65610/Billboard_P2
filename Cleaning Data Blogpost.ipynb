{
 "cells": [
  {
   "cell_type": "markdown",
   "metadata": {},
   "source": [
    "## Cleaning Data\n",
    "\n",
    "If you go digging around in something long enough, you're bound to stumble into some data. Odds are, you're going to find more than you bargained for. Moreover, it's unlikely that any of that data will be anywhere close to usable when you find it. That's where the thankless and unglamorous work of data science begins. \n",
    "\n",
    "Data is usable only to the extent that it's clean. Deciding how to clean it is as important as the analyses you run or the visualizations you present. Data obtained from the Billboard Top 100 charts gives us an opportunity to investigate just how important clean data is, and the lengths you have to go to in order to get it there.\n",
    "\n",
    "We begin with a look at the problems presented by this data set. There are empty columns, data is stored almost entirely as text, and there appear to be some gaps in the data. If all we wanted this data to do was remind us that Sisqo managed to have three songs on the Top 100 in 2000, then we might be fine with the way that it's currently formatted. We want more than that. We want to get a sense of what music was popular that year. What songs took the radio by storm and stayed on for months. Which ones flashed and fizzled after a couple of weeks. \n",
    "\n",
    "Once the data is cleaned, we'll be able to verify that mainstream genres like rock and hip-hop not only have more staying power than other genres, but that you can predict reasonably well how high a song will rise given where it premieres on the top 100.\n",
    "\n",
    "\n",
    "_Cleaning Plan:_\n",
    " * The first step in cleaning this data was changing the column headers to be more descriptive of the data they held. What was 'x1st.week' became simply '1'. This simplification allows us to be more flexible down the road, especially when we create pivot tables or melt the data.\n",
    " * In addition to column names being obscure, data was stored in unuseful types. Virtually everything was an object: a datatype that can't have arithmetic operations performed on it. Weekly rankings were therefore changed to floats. Dates were changed to datetimes. \n",
    " * The creators of this data were a little bullish on the average pop's song lasting power. As a result, there are several columns without any data in them. These columns were dropped in order to make things a little bit neater.\n",
    " * In order to obtain accurate summary statistics, I chose to leave null values in the chart. This causes a slight wrinkle when it comes time to graph the data using python tools, but that problem can be quickly remedied by creating a new dataframe with null values filled to be used specifically for visualization. \n",
    " * The final step in cleaning was to melt the dataframe, changing its orientation to be long rather than wide. This allowed for some easier visualization, especially in Tableau. \n",
    "\n",
    "_Initial Analysis:_\n",
    " * Pandas, an extremely useful python package, provides great tools for looking at some basic statistics. Using that, we can see that of the 317 songs that reached the Billboard Top 100, the average track stayed on the charts for around 16 weeks, reaching a peak position of 44 on the Billboard charts. Those songs took an average of 52 days, or 7 weeks, to reach their peak points on the charts. \n",
    " * To do more in depth analysis, I would use the Scipy package to get some more advanced stats. I think that skew and Kurtosis would be especially interesting here. \n",
    " * The only thing that you have to be cautious about is that the sample size is on the small side. This gets to be prohibitive when you want to look at specific genres. Rock music is such a large portion of the data, that smaller genres don't lend themselves to as meaningful analysis. This is especially true in the case of Jazz and Gospel music, each of which had only one song on the Billboard Top 100.\n",
    " \n",
    "_A Few Visualizations:_\n",
    "  * Weeks on the Charts vs. Highest Position\n",
    "      * This visualization shows one of the gaps in the data, and one of the reasons that holistic description is a challenge. There is a cliff at 20 weeks after which many songs seem to disappear. This is due to a quirk in the way that Billboard data is calculated. Songs must be in the Top 50 in order to be counted in the data. This also explains the spike in the distribution chart that shows how long songs were on the Billboard Top 100. This visualization was made using the Seaborn package in Python.\n",
    "       ![Scatter Plot showing the relationship between how many weeks a song was on the charts and its highest position](scatter.png \"Scatter\")\n",
    "\n",
    "      \n",
    " * Where things entered the charts vs. how high they reached. \n",
    "     * One of the great features in Tableau is the ability to add multiple filters onto visualizations. This is a nice example of that. What started as a simple distribution can become much more. This histogram shows where songs tend to enter the Billboard Top 100. I've added a color filter on the tracks in the histogram. The colors get more intense depending on how high on the chart each track made it. Darker colors reached higher places. Not surprisingly, we can see that songs that debuted higher tended to perform better than those that debuted lower.\n",
    "      ![Tableau Visualization showing where songs entered vs. how high they reached](debut_dist.png)\n",
    "     \n",
    "\n",
    " * Genre Popularity\n",
    "     * Here's another example of how Tableau can make really attractive visualizations on the fly. This chart shows how popular songs of different genres were over the course of the year. Rock and roll music, it would seem, is here to stay.\n",
    "      ![Genre Popularity](genre_pop.png)"
   ]
  },
  {
   "cell_type": "code",
   "execution_count": null,
   "metadata": {
    "collapsed": true
   },
   "outputs": [],
   "source": []
  }
 ],
 "metadata": {
  "kernelspec": {
   "display_name": "Python 2",
   "language": "python",
   "name": "python2"
  },
  "language_info": {
   "codemirror_mode": {
    "name": "ipython",
    "version": 2
   },
   "file_extension": ".py",
   "mimetype": "text/x-python",
   "name": "python",
   "nbconvert_exporter": "python",
   "pygments_lexer": "ipython2",
   "version": "2.7.11"
  }
 },
 "nbformat": 4,
 "nbformat_minor": 0
}
